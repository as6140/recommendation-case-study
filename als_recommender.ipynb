{
 "cells": [
  {
   "cell_type": "code",
   "execution_count": 62,
   "metadata": {},
   "outputs": [],
   "source": [
    "import pyspark\n",
    "from pyspark.ml.recommendation import ALS, ALSModel\n",
    "from pyspark.sql import functions, types\n",
    "import numpy as np"
   ]
  },
  {
   "cell_type": "code",
   "execution_count": 2,
   "metadata": {},
   "outputs": [],
   "source": [
    "spark = (pyspark.sql.SparkSession.builder\n",
    "         .master(\"local[*]\") #local[4]: run on my computer, use 4 processors, \n",
    "                             #local[*]: use a processor for each core\n",
    "         .getOrCreate())"
   ]
  },
  {
   "cell_type": "code",
   "execution_count": 3,
   "metadata": {},
   "outputs": [
    {
     "name": "stdout",
     "output_type": "stream",
     "text": [
      "LICENSE             movies.dat          ratings.json        users.dat\r\n",
      "README              \u001b[31mmovies_metadata.csv\u001b[m\u001b[m requests.json\r\n"
     ]
    }
   ],
   "source": [
    "!ls data/"
   ]
  },
  {
   "cell_type": "code",
   "execution_count": 4,
   "metadata": {},
   "outputs": [
    {
     "name": "stdout",
     "output_type": "stream",
     "text": [
      "1::Toy Story (1995)::Animation|Children's|Comedy\r\n",
      "2::Jumanji (1995)::Adventure|Children's|Fantasy\r\n",
      "3::Grumpier Old Men (1995)::Comedy|Romance\r\n",
      "4::Waiting to Exhale (1995)::Comedy|Drama\r\n",
      "5::Father of the Bride Part II (1995)::Comedy\r\n",
      "6::Heat (1995)::Action|Crime|Thriller\r\n",
      "7::Sabrina (1995)::Comedy|Romance\r\n",
      "8::Tom and Huck (1995)::Adventure|Children's\r\n",
      "9::Sudden Death (1995)::Action\r\n",
      "10::GoldenEye (1995)::Action|Adventure|Thriller\r\n"
     ]
    }
   ],
   "source": [
    "!head data/movies.dat #3952 entries"
   ]
  },
  {
   "cell_type": "code",
   "execution_count": 5,
   "metadata": {
    "scrolled": true
   },
   "outputs": [
    {
     "name": "stdout",
     "output_type": "stream",
     "text": [
      "1::F::1::10::48067\r\n",
      "2::M::56::16::70072\r\n",
      "3::M::25::15::55117\r\n",
      "4::M::45::7::02460\r\n",
      "5::M::25::20::55455\r\n",
      "6::F::50::9::55117\r\n",
      "7::M::35::1::06810\r\n",
      "8::M::25::12::11413\r\n",
      "9::M::25::17::61614\r\n",
      "10::F::35::1::95370\r\n"
     ]
    }
   ],
   "source": [
    "!head data/users.dat #UserID::Gender::Age::Occupation::Zip-code"
   ]
  },
  {
   "cell_type": "code",
   "execution_count": 6,
   "metadata": {},
   "outputs": [
    {
     "name": "stdout",
     "output_type": "stream",
     "text": [
      "{\"user_id\": 6040, \"movie_id\": 858, \"rating\": 4, \"timestamp\": 956678732.0}\r\n",
      "{\"user_id\": 6040, \"movie_id\": 2384, \"rating\": 4, \"timestamp\": 956678754.0}\r\n",
      "{\"user_id\": 6040, \"movie_id\": 593, \"rating\": 5, \"timestamp\": 956678754.0}\r\n",
      "{\"user_id\": 6040, \"movie_id\": 1961, \"rating\": 4, \"timestamp\": 956678777.0}\r\n",
      "{\"user_id\": 6040, \"movie_id\": 1419, \"rating\": 3, \"timestamp\": 956678856.0}\r\n",
      "{\"user_id\": 6040, \"movie_id\": 213, \"rating\": 5, \"timestamp\": 956678856.0}\r\n",
      "{\"user_id\": 6040, \"movie_id\": 3111, \"rating\": 5, \"timestamp\": 956678856.0}\r\n",
      "{\"user_id\": 6040, \"movie_id\": 573, \"rating\": 4, \"timestamp\": 956678856.0}\r\n",
      "{\"user_id\": 6040, \"movie_id\": 3505, \"rating\": 4, \"timestamp\": 956678856.0}\r\n",
      "{\"user_id\": 6040, \"movie_id\": 1734, \"rating\": 2, \"timestamp\": 956678881.0}\r\n"
     ]
    }
   ],
   "source": [
    "!head data/ratings.json"
   ]
  },
  {
   "cell_type": "code",
   "execution_count": 7,
   "metadata": {},
   "outputs": [
    {
     "name": "stdout",
     "output_type": "stream",
     "text": [
      "{\"user_id\": 6040, \"movie_id\": 2019, \"rating\": NaN, \"timestamp\": 956678777.0}\r\n",
      "{\"user_id\": 6040, \"movie_id\": 759, \"rating\": NaN, \"timestamp\": 956679248.0}\r\n",
      "{\"user_id\": 6040, \"movie_id\": 2858, \"rating\": NaN, \"timestamp\": 956679275.0}\r\n",
      "{\"user_id\": 6040, \"movie_id\": 246, \"rating\": NaN, \"timestamp\": 956679413.0}\r\n",
      "{\"user_id\": 6040, \"movie_id\": 1617, \"rating\": NaN, \"timestamp\": 956679473.0}\r\n",
      "{\"user_id\": 6040, \"movie_id\": 2324, \"rating\": NaN, \"timestamp\": 956679629.0}\r\n",
      "{\"user_id\": 6040, \"movie_id\": 1089, \"rating\": NaN, \"timestamp\": 956679796.0}\r\n",
      "{\"user_id\": 6039, \"movie_id\": 2804, \"rating\": NaN, \"timestamp\": 956680123.0}\r\n",
      "{\"user_id\": 6039, \"movie_id\": 933, \"rating\": NaN, \"timestamp\": 956680270.0}\r\n",
      "{\"user_id\": 6039, \"movie_id\": 1304, \"rating\": NaN, \"timestamp\": 956680308.0}\r\n"
     ]
    }
   ],
   "source": [
    "!head data/requests.json"
   ]
  },
  {
   "cell_type": "code",
   "execution_count": 8,
   "metadata": {},
   "outputs": [
    {
     "name": "stdout",
     "output_type": "stream",
     "text": [
      "+--------+------+------------+-------+\n",
      "|movie_id|rating|   timestamp|user_id|\n",
      "+--------+------+------------+-------+\n",
      "|    2019|   NaN|9.56678777E8|   6040|\n",
      "|     759|   NaN|9.56679248E8|   6040|\n",
      "|    2858|   NaN|9.56679275E8|   6040|\n",
      "|     246|   NaN|9.56679413E8|   6040|\n",
      "|    1617|   NaN|9.56679473E8|   6040|\n",
      "+--------+------+------------+-------+\n",
      "only showing top 5 rows\n",
      "\n"
     ]
    }
   ],
   "source": [
    "#load test data where ratings are NaN\n",
    "requests = spark.read.json(\"data/requests.json\")\n",
    "requests.show(5)"
   ]
  },
  {
   "cell_type": "code",
   "execution_count": 9,
   "metadata": {},
   "outputs": [
    {
     "data": {
      "text/plain": [
       "['ArrayType',\n",
       " 'AtomicType',\n",
       " 'BinaryType',\n",
       " 'BooleanType',\n",
       " 'ByteType',\n",
       " 'CloudPickleSerializer',\n",
       " 'DataType',\n",
       " 'DataTypeSingleton',\n",
       " 'DateConverter',\n",
       " 'DateType',\n",
       " 'DatetimeConverter',\n",
       " 'DecimalType',\n",
       " 'DoubleType',\n",
       " 'FloatType',\n",
       " 'FractionalType',\n",
       " 'IntegerType',\n",
       " 'IntegralType',\n",
       " 'JavaClass',\n",
       " 'LongType',\n",
       " 'MapType',\n",
       " 'NullType',\n",
       " 'NumericType',\n",
       " 'Row',\n",
       " 'ShortType',\n",
       " 'SparkContext',\n",
       " 'StringType',\n",
       " 'StructField',\n",
       " 'StructType',\n",
       " 'TimestampType',\n",
       " 'UserDefinedType',\n",
       " '_FIXED_DECIMAL',\n",
       " '__all__',\n",
       " '__builtins__',\n",
       " '__cached__',\n",
       " '__doc__',\n",
       " '__file__',\n",
       " '__loader__',\n",
       " '__name__',\n",
       " '__package__',\n",
       " '__spec__',\n",
       " '_acceptable_types',\n",
       " '_all_atomic_types',\n",
       " '_all_complex_types',\n",
       " '_array_signed_int_typecode_ctype_mappings',\n",
       " '_array_type_mappings',\n",
       " '_array_unsigned_int_typecode_ctype_mappings',\n",
       " '_atomic_types',\n",
       " '_check_dataframe_convert_date',\n",
       " '_check_dataframe_localize_timestamps',\n",
       " '_check_series_convert_date',\n",
       " '_check_series_convert_timestamps_internal',\n",
       " '_check_series_convert_timestamps_local_tz',\n",
       " '_check_series_convert_timestamps_localize',\n",
       " '_check_series_convert_timestamps_tz_local',\n",
       " '_check_series_localize_timestamps',\n",
       " '_create_converter',\n",
       " '_create_row',\n",
       " '_create_row_inbound_converter',\n",
       " '_get_local_timezone',\n",
       " '_has_nulltype',\n",
       " '_infer_schema',\n",
       " '_infer_type',\n",
       " '_int_size_to_type',\n",
       " '_make_type_verifier',\n",
       " '_merge_type',\n",
       " '_need_converter',\n",
       " '_parse_datatype_json_string',\n",
       " '_parse_datatype_json_value',\n",
       " '_parse_datatype_string',\n",
       " '_test',\n",
       " '_type_mappings',\n",
       " '_typecode',\n",
       " 'array',\n",
       " 'base64',\n",
       " 'basestring',\n",
       " 'calendar',\n",
       " 'ctypes',\n",
       " 'datetime',\n",
       " 'decimal',\n",
       " 'dt',\n",
       " 'from_arrow_schema',\n",
       " 'from_arrow_type',\n",
       " 'json',\n",
       " 'long',\n",
       " 'platform',\n",
       " 're',\n",
       " 'register_input_converter',\n",
       " 'size',\n",
       " 'sys',\n",
       " 'time',\n",
       " 'to_arrow_schema',\n",
       " 'to_arrow_type',\n",
       " 'unicode']"
      ]
     },
     "execution_count": 9,
     "metadata": {},
     "output_type": "execute_result"
    }
   ],
   "source": [
    "from pyspark.sql.types import (\n",
    "                                StructType,\n",
    "                                StructField,\n",
    "                                IntegerType,\n",
    "                                FloatType,\n",
    "                                LongType,)\n",
    "dir(pyspark.sql.types)"
   ]
  },
  {
   "cell_type": "code",
   "execution_count": 13,
   "metadata": {},
   "outputs": [],
   "source": [
    "users = (spark.read.load(\"data/users.dat\",format=\"csv\", sep=\":\", inferSchema=True\n",
    "                       ).drop('_c1','_c3','_c5','_c7'))"
   ]
  },
  {
   "cell_type": "code",
   "execution_count": 14,
   "metadata": {},
   "outputs": [
    {
     "name": "stdout",
     "output_type": "stream",
     "text": [
      "+------+------+---+----------+-----+\n",
      "|userId|gender|age|occupation|  zip|\n",
      "+------+------+---+----------+-----+\n",
      "|     1|     F|  1|        10|48067|\n",
      "|     2|     M| 56|        16|70072|\n",
      "|     3|     M| 25|        15|55117|\n",
      "|     4|     M| 45|         7|02460|\n",
      "|     5|     M| 25|        20|55455|\n",
      "+------+------+---+----------+-----+\n",
      "only showing top 5 rows\n",
      "\n"
     ]
    }
   ],
   "source": [
    "users = (users.withColumnRenamed(users.schema.names[0],'userId'\n",
    "                       ).withColumnRenamed(users.schema.names[1],'gender'\n",
    "                        ).withColumnRenamed(users.schema.names[2],'age'\n",
    "                        ).withColumnRenamed(users.schema.names[3],'occupation'\n",
    "                        ).withColumnRenamed(users.schema.names[4],'zip'))\n",
    "users.show(5)"
   ]
  },
  {
   "cell_type": "code",
   "execution_count": 32,
   "metadata": {
    "scrolled": true
   },
   "outputs": [
    {
     "name": "stdout",
     "output_type": "stream",
     "text": [
      "+--------+------+------------+-------+\n",
      "|movie_id|rating|   timestamp|user_id|\n",
      "+--------+------+------------+-------+\n",
      "|     858|     4|9.56678732E8|   6040|\n",
      "|    2384|     4|9.56678754E8|   6040|\n",
      "|     593|     5|9.56678754E8|   6040|\n",
      "|    1961|     4|9.56678777E8|   6040|\n",
      "|    1419|     3|9.56678856E8|   6040|\n",
      "|     213|     5|9.56678856E8|   6040|\n",
      "|    3111|     5|9.56678856E8|   6040|\n",
      "|     573|     4|9.56678856E8|   6040|\n",
      "|    3505|     4|9.56678856E8|   6040|\n",
      "|    1734|     2|9.56678881E8|   6040|\n",
      "|    2503|     5|9.56678991E8|   6040|\n",
      "|     919|     5|9.56678991E8|   6040|\n",
      "|     912|     5|9.56678991E8|   6040|\n",
      "|     527|     5|9.56679019E8|   6040|\n",
      "|    1252|     5|9.56679057E8|   6040|\n",
      "|     649|     5|9.56679057E8|   6040|\n",
      "|     318|     4|9.56679057E8|   6040|\n",
      "|    3289|     5|9.56679105E8|   6040|\n",
      "|     608|     4|9.56679275E8|   6040|\n",
      "|    2396|     3|9.56679275E8|   6040|\n",
      "+--------+------+------------+-------+\n",
      "only showing top 20 rows\n",
      "\n"
     ]
    }
   ],
   "source": [
    "#load ratings data\n",
    "ratings = spark.read.json(\"data/ratings.json\")\n",
    "ratings.show(20)"
   ]
  },
  {
   "cell_type": "code",
   "execution_count": 33,
   "metadata": {
    "scrolled": true
   },
   "outputs": [
    {
     "name": "stdout",
     "output_type": "stream",
     "text": [
      "root\n",
      " |-- movie_id: long (nullable = true)\n",
      " |-- rating: long (nullable = true)\n",
      " |-- timestamp: double (nullable = true)\n",
      " |-- user_id: long (nullable = true)\n",
      "\n"
     ]
    }
   ],
   "source": [
    "ratings.printSchema()"
   ]
  },
  {
   "cell_type": "code",
   "execution_count": 91,
   "metadata": {},
   "outputs": [
    {
     "name": "stdout",
     "output_type": "stream",
     "text": [
      "+--------+------+---------+-------+\n",
      "|movie_id|rating|timestamp|user_id|\n",
      "+--------+------+---------+-------+\n",
      "+--------+------+---------+-------+\n",
      "\n"
     ]
    }
   ],
   "source": [
    "ratings.where(ratings[\"rating\"].isNull()).show()"
   ]
  },
  {
   "cell_type": "code",
   "execution_count": 34,
   "metadata": {},
   "outputs": [
    {
     "name": "stdout",
     "output_type": "stream",
     "text": [
      "719949 4\n"
     ]
    }
   ],
   "source": [
    "#Shape\n",
    "print(ratings.count(), len(ratings.columns))"
   ]
  },
  {
   "cell_type": "code",
   "execution_count": 35,
   "metadata": {},
   "outputs": [],
   "source": [
    "#DEFAULTS:\n",
    "#ALS(rank=10, maxIter=10, regParam=0.1, numUserBlocks=10, numItemBlocks=10, implicitPrefs=False, \n",
    "#alpha=1.0, userCol='user', itemCol='item', seed=None, ratingCol='rating', nonnegative=False, \n",
    "#checkpointInterval=10,intermediateStorageLevel='MEMORY_AND_DISK', \n",
    "#finalStorageLevel='MEMORY_AND_DISK', coldStartStrategy='nan')\n",
    "\n",
    "#SPECIFY WHICH COLUMNS ARE USER, ITEM, and RATING\n",
    "als = ALS(\n",
    "        rank=10,\n",
    "        maxIter=10,\n",
    "        userCol='user_id',\n",
    "        itemCol='movie_id',\n",
    "        ratingCol='rating',\n",
    "        )"
   ]
  },
  {
   "cell_type": "code",
   "execution_count": 36,
   "metadata": {},
   "outputs": [
    {
     "data": {
      "text/plain": [
       "DataFrame[movie_id: bigint, rating: bigint, timestamp: string, user_id: bigint]"
      ]
     },
     "execution_count": 36,
     "metadata": {},
     "output_type": "execute_result"
    }
   ],
   "source": [
    "#recast timestamp from unix epoch time to readable format\n",
    "ratings = (ratings.withColumn('timestamp',\n",
    "                             functions.date_format(\n",
    "                                 ratings.timestamp.cast(dataType=types.TimestampType()),\n",
    "                             \"yyyy-MM-dd HH:mm:ss\")))\n",
    "ratings.persist()"
   ]
  },
  {
   "cell_type": "code",
   "execution_count": 38,
   "metadata": {},
   "outputs": [
    {
     "name": "stdout",
     "output_type": "stream",
     "text": [
      "+--------+------+-------------------+-------+\n",
      "|movie_id|rating|          timestamp|user_id|\n",
      "+--------+------+-------------------+-------+\n",
      "|     858|     4|2000-04-25 09:05:32|   6040|\n",
      "|    2384|     4|2000-04-25 09:05:54|   6040|\n",
      "|     593|     5|2000-04-25 09:05:54|   6040|\n",
      "|    1961|     4|2000-04-25 09:06:17|   6040|\n",
      "|    1419|     3|2000-04-25 09:07:36|   6040|\n",
      "|     213|     5|2000-04-25 09:07:36|   6040|\n",
      "|    3111|     5|2000-04-25 09:07:36|   6040|\n",
      "|     573|     4|2000-04-25 09:07:36|   6040|\n",
      "|    3505|     4|2000-04-25 09:07:36|   6040|\n",
      "|    1734|     2|2000-04-25 09:08:01|   6040|\n",
      "|    2503|     5|2000-04-25 09:09:51|   6040|\n",
      "|     919|     5|2000-04-25 09:09:51|   6040|\n",
      "|     912|     5|2000-04-25 09:09:51|   6040|\n",
      "|     527|     5|2000-04-25 09:10:19|   6040|\n",
      "|    1252|     5|2000-04-25 09:10:57|   6040|\n",
      "|     649|     5|2000-04-25 09:10:57|   6040|\n",
      "|     318|     4|2000-04-25 09:10:57|   6040|\n",
      "|    3289|     5|2000-04-25 09:11:45|   6040|\n",
      "|     608|     4|2000-04-25 09:14:35|   6040|\n",
      "|    2396|     3|2000-04-25 09:14:35|   6040|\n",
      "+--------+------+-------------------+-------+\n",
      "only showing top 20 rows\n",
      "\n"
     ]
    }
   ],
   "source": [
    "ratings.show(20)"
   ]
  },
  {
   "cell_type": "code",
   "execution_count": 41,
   "metadata": {},
   "outputs": [
    {
     "data": {
      "text/plain": [
       "DataFrame[movie_id: bigint, rating: bigint, timestamp: string, user_id: bigint]"
      ]
     },
     "execution_count": 41,
     "metadata": {},
     "output_type": "execute_result"
    }
   ],
   "source": [
    "ratings = ratings.orderBy('timestamp')\n",
    "ratings.persist()"
   ]
  },
  {
   "cell_type": "code",
   "execution_count": 106,
   "metadata": {},
   "outputs": [
    {
     "name": "stdout",
     "output_type": "stream",
     "text": [
      "+--------+------+-------------------+-------+\n",
      "|movie_id|rating|          timestamp|user_id|\n",
      "+--------+------+-------------------+-------+\n",
      "|    1172|     5|2000-12-01 22:50:20|    635|\n",
      "|    2686|     5|2000-12-01 22:46:54|    635|\n",
      "|    1960|     5|2000-12-01 22:50:20|    635|\n",
      "|    3948|     4|2000-12-01 22:44:54|    635|\n",
      "|    3751|     5|2000-12-01 22:46:11|    635|\n",
      "|    1279|     5|2000-12-01 22:48:40|    635|\n",
      "|     296|     4|2000-12-01 22:50:20|    635|\n",
      "|     920|     4|2000-12-01 22:38:31|    635|\n",
      "|    1286|     4|2000-12-01 22:41:46|    635|\n",
      "|    3720|     5|2000-12-01 22:45:38|    635|\n",
      "|    3035|     5|2000-12-01 22:50:20|    635|\n",
      "|    3916|     3|2000-12-01 22:47:20|    635|\n",
      "|    3067|     4|2000-12-01 22:48:40|    635|\n",
      "|    1217|     4|2000-12-01 22:48:40|    635|\n",
      "|    3183|     4|2000-12-01 22:48:40|    635|\n",
      "|    2294|     5|2000-12-01 22:37:41|    635|\n",
      "|    3614|     4|2000-12-01 22:38:31|    635|\n",
      "|    3528|     5|2000-12-01 22:41:46|    635|\n",
      "|    1270|     4|2000-12-01 22:41:46|    635|\n",
      "|     480|     5|2000-12-01 22:37:41|    635|\n",
      "+--------+------+-------------------+-------+\n",
      "only showing top 20 rows\n",
      "\n"
     ]
    }
   ],
   "source": [
    "ratings.orderBy('user_id').show()"
   ]
  },
  {
   "cell_type": "code",
   "execution_count": 50,
   "metadata": {},
   "outputs": [
    {
     "name": "stdout",
     "output_type": "stream",
     "text": [
      "+--------+------+-------------------+-------+\n",
      "|movie_id|rating|          timestamp|user_id|\n",
      "+--------+------+-------------------+-------+\n",
      "|     858|     4|2000-04-25 09:05:32|   6040|\n",
      "|    2384|     4|2000-04-25 09:05:54|   6040|\n",
      "|     593|     5|2000-04-25 09:05:54|   6040|\n",
      "|    1961|     4|2000-04-25 09:06:17|   6040|\n",
      "|    1419|     3|2000-04-25 09:07:36|   6040|\n",
      "+--------+------+-------------------+-------+\n",
      "only showing top 5 rows\n",
      "\n"
     ]
    }
   ],
   "source": [
    "ratings.show(5)"
   ]
  },
  {
   "cell_type": "code",
   "execution_count": 51,
   "metadata": {},
   "outputs": [
    {
     "name": "stdout",
     "output_type": "stream",
     "text": [
      "(719949, 4)\n"
     ]
    }
   ],
   "source": [
    "print((ratings.count(), len(ratings.columns)))"
   ]
  },
  {
   "cell_type": "code",
   "execution_count": 52,
   "metadata": {},
   "outputs": [
    {
     "data": {
      "text/plain": [
       "575959.2000000001"
      ]
     },
     "execution_count": 52,
     "metadata": {},
     "output_type": "execute_result"
    }
   ],
   "source": [
    "719949*0.8"
   ]
  },
  {
   "cell_type": "code",
   "execution_count": 55,
   "metadata": {},
   "outputs": [
    {
     "data": {
      "text/plain": [
       "DataFrame[movie_id: bigint, rating: bigint, timestamp: string, user_id: bigint]"
      ]
     },
     "execution_count": 55,
     "metadata": {},
     "output_type": "execute_result"
    }
   ],
   "source": [
    "ratings_train = ratings.sort(ratings.timestamp.asc()).limit(575959)\n",
    "ratings_train.persist()"
   ]
  },
  {
   "cell_type": "code",
   "execution_count": 108,
   "metadata": {},
   "outputs": [
    {
     "name": "stdout",
     "output_type": "stream",
     "text": [
      "+--------+------+-------------------+-------+\n",
      "|movie_id|rating|          timestamp|user_id|\n",
      "+--------+------+-------------------+-------+\n",
      "|     912|     5|2000-11-20 00:27:25|   1570|\n",
      "|    2473|     1|2000-11-20 00:27:25|   1570|\n",
      "|     110|     3|2000-11-20 00:26:54|   1570|\n",
      "|    2502|     4|2000-11-20 00:26:54|   1570|\n",
      "|    2410|     3|2000-11-20 00:24:18|   1571|\n",
      "|    1210|     3|2000-11-20 00:24:18|   1571|\n",
      "|     593|     5|2000-11-20 00:25:05|   1571|\n",
      "|      34|     4|2000-11-20 00:25:05|   1571|\n",
      "|    1198|     5|2000-11-20 00:25:05|   1571|\n",
      "|      95|     3|2000-11-20 00:25:05|   1571|\n",
      "|    3418|     5|2000-11-20 00:24:18|   1571|\n",
      "|    1259|     4|2000-11-20 00:27:45|   1571|\n",
      "|    1172|     5|2000-11-20 00:27:45|   1571|\n",
      "|    1197|     4|2000-11-20 00:28:10|   1571|\n",
      "|    2502|     2|2000-11-20 00:25:05|   1571|\n",
      "|     195|     4|2000-11-20 00:25:05|   1571|\n",
      "|    1270|     4|2000-11-20 00:27:45|   1571|\n",
      "|    3424|     5|2000-11-20 00:27:45|   1571|\n",
      "|    3361|     4|2000-11-20 00:27:45|   1571|\n",
      "|    1238|     5|2000-11-20 00:27:45|   1571|\n",
      "+--------+------+-------------------+-------+\n",
      "only showing top 20 rows\n",
      "\n"
     ]
    }
   ],
   "source": [
    "ratings_train.orderBy('user_id').show()"
   ]
  },
  {
   "cell_type": "code",
   "execution_count": 56,
   "metadata": {},
   "outputs": [
    {
     "data": {
      "text/plain": [
       "DataFrame[movie_id: bigint, rating: bigint, timestamp: string, user_id: bigint]"
      ]
     },
     "execution_count": 56,
     "metadata": {},
     "output_type": "execute_result"
    }
   ],
   "source": [
    "ratings_test = ratings.subtract(ratings_train)\n",
    "ratings_test.persist()"
   ]
  },
  {
   "cell_type": "code",
   "execution_count": 57,
   "metadata": {},
   "outputs": [
    {
     "name": "stdout",
     "output_type": "stream",
     "text": [
      "Train DF Shape:(575959, 4)\n",
      "Test DF Shape:(143990, 4)\n"
     ]
    }
   ],
   "source": [
    "print(f\"Train DF Shape:{(ratings_train.count(), len(ratings_train.columns))}\") #~80%\n",
    "print(f\"Test DF Shape:{(ratings_test.count(), len(ratings_test.columns))}\") #~20%"
   ]
  },
  {
   "cell_type": "code",
   "execution_count": 58,
   "metadata": {},
   "outputs": [],
   "source": [
    "als_model = als.fit(ratings_train)"
   ]
  },
  {
   "cell_type": "code",
   "execution_count": 59,
   "metadata": {},
   "outputs": [
    {
     "data": {
      "text/plain": [
       "DataFrame[movie_id: bigint, rating: bigint, timestamp: string, user_id: bigint, prediction: float]"
      ]
     },
     "execution_count": 59,
     "metadata": {},
     "output_type": "execute_result"
    }
   ],
   "source": [
    "predictions = als_model.transform(ratings_train)\n",
    "predictions.persist()"
   ]
  },
  {
   "cell_type": "code",
   "execution_count": 61,
   "metadata": {},
   "outputs": [
    {
     "name": "stdout",
     "output_type": "stream",
     "text": [
      "+--------+------+-------------------+-------+----------+\n",
      "|movie_id|rating|          timestamp|user_id|prediction|\n",
      "+--------+------+-------------------+-------+----------+\n",
      "|     858|     4|2000-04-25 09:05:32|   6040|  4.221436|\n",
      "|     593|     5|2000-04-25 09:05:54|   6040| 3.7021375|\n",
      "|    2384|     4|2000-04-25 09:05:54|   6040|  3.347498|\n",
      "|    1961|     4|2000-04-25 09:06:17|   6040| 3.3244977|\n",
      "|     213|     5|2000-04-25 09:07:36|   6040| 3.9047341|\n",
      "|    1419|     3|2000-04-25 09:07:36|   6040| 3.4164295|\n",
      "|    3505|     4|2000-04-25 09:07:36|   6040| 3.2255454|\n",
      "|    3111|     5|2000-04-25 09:07:36|   6040| 3.3304982|\n",
      "|     573|     4|2000-04-25 09:07:36|   6040| 2.9886765|\n",
      "|    1734|     2|2000-04-25 09:08:01|   6040|  3.291084|\n",
      "|     912|     5|2000-04-25 09:09:51|   6040|  4.284761|\n",
      "|    2503|     5|2000-04-25 09:09:51|   6040|  4.460045|\n",
      "|     919|     5|2000-04-25 09:09:51|   6040| 3.7702155|\n",
      "|     527|     5|2000-04-25 09:10:19|   6040|  3.985158|\n",
      "|    1252|     5|2000-04-25 09:10:57|   6040|  4.251631|\n",
      "|     649|     5|2000-04-25 09:10:57|   6040|  4.344886|\n",
      "|     318|     4|2000-04-25 09:10:57|   6040| 3.7770429|\n",
      "|    3289|     5|2000-04-25 09:11:45|   6040|  4.403163|\n",
      "|    2396|     3|2000-04-25 09:14:35|   6040| 3.6016083|\n",
      "|     608|     4|2000-04-25 09:14:35|   6040| 4.2014284|\n",
      "+--------+------+-------------------+-------+----------+\n",
      "only showing top 20 rows\n",
      "\n"
     ]
    }
   ],
   "source": [
    "predictions.sort(ratings.timestamp.asc()).show(20)"
   ]
  },
  {
   "cell_type": "code",
   "execution_count": 83,
   "metadata": {},
   "outputs": [
    {
     "data": {
      "text/plain": [
       "[('movie_id', 'bigint'),\n",
       " ('rating', 'bigint'),\n",
       " ('timestamp', 'string'),\n",
       " ('user_id', 'bigint'),\n",
       " ('prediction', 'float')]"
      ]
     },
     "execution_count": 83,
     "metadata": {},
     "output_type": "execute_result"
    }
   ],
   "source": [
    "predictions.dtypes"
   ]
  },
  {
   "cell_type": "code",
   "execution_count": 63,
   "metadata": {},
   "outputs": [
    {
     "data": {
      "text/plain": [
       "DataFrame[id: int, features: array<float>]"
      ]
     },
     "execution_count": 63,
     "metadata": {},
     "output_type": "execute_result"
    }
   ],
   "source": [
    "user_factors = als_model.userFactors\n",
    "user_factors.persist()"
   ]
  },
  {
   "cell_type": "code",
   "execution_count": 107,
   "metadata": {},
   "outputs": [
    {
     "name": "stdout",
     "output_type": "stream",
     "text": [
      "+----+--------------------+\n",
      "|  id|            features|\n",
      "+----+--------------------+\n",
      "|1570|[-0.56166136, -0....|\n",
      "|1571|[-0.85663205, 0.0...|\n",
      "|1572|[-0.93184286, 0.3...|\n",
      "|1573|[-0.13954364, 0.4...|\n",
      "|1574|[-2.4583068, 0.84...|\n",
      "|1575|[-1.2614186, -0.0...|\n",
      "|1576|[-1.3855032, 0.91...|\n",
      "|1577|[-0.7750076, 0.07...|\n",
      "|1578|[-0.5048642, 0.98...|\n",
      "|1579|[-0.61297446, 0.2...|\n",
      "+----+--------------------+\n",
      "only showing top 10 rows\n",
      "\n"
     ]
    }
   ],
   "source": [
    "user_factors.orderBy('id').show(10)"
   ]
  },
  {
   "cell_type": "code",
   "execution_count": 67,
   "metadata": {},
   "outputs": [
    {
     "name": "stdout",
     "output_type": "stream",
     "text": [
      "User factors shape:(4464, 2)\n"
     ]
    }
   ],
   "source": [
    "print(f\"User factors shape:{user_factors.count(),len(user_factors.columns)}\")"
   ]
  },
  {
   "cell_type": "code",
   "execution_count": 71,
   "metadata": {},
   "outputs": [
    {
     "name": "stdout",
     "output_type": "stream",
     "text": [
      "1::F::1::10::48067\r\n",
      "2::M::56::16::70072\r\n",
      "3::M::25::15::55117\r\n",
      "4::M::45::7::02460\r\n",
      "5::M::25::20::55455\r\n",
      "6::F::50::9::55117\r\n",
      "7::M::35::1::06810\r\n",
      "8::M::25::12::11413\r\n",
      "9::M::25::17::61614\r\n",
      "10::F::35::1::95370\r\n",
      "11::F::25::1::04093\r\n",
      "12::M::25::12::32793\r\n",
      "13::M::45::1::93304\r\n",
      "14::M::35::0::60126\r\n",
      "15::M::25::7::22903\r\n"
     ]
    }
   ],
   "source": [
    "#first Users\n",
    "!head -n 15 data/users.dat"
   ]
  },
  {
   "cell_type": "code",
   "execution_count": 65,
   "metadata": {},
   "outputs": [
    {
     "data": {
      "text/plain": [
       "DataFrame[id: int, features: array<float>]"
      ]
     },
     "execution_count": 65,
     "metadata": {},
     "output_type": "execute_result"
    }
   ],
   "source": [
    "item_factors = als_model.itemFactors\n",
    "item_factors.persist()"
   ]
  },
  {
   "cell_type": "code",
   "execution_count": 82,
   "metadata": {},
   "outputs": [
    {
     "name": "stdout",
     "output_type": "stream",
     "text": [
      "+---+--------------------+\n",
      "| id|            features|\n",
      "+---+--------------------+\n",
      "|  1|[-0.78978753, 0.6...|\n",
      "|  2|[-0.7596844, 0.30...|\n",
      "|  3|[-0.7476781, 0.31...|\n",
      "|  4|[-0.8348807, 0.07...|\n",
      "|  5|[-0.7923992, 0.39...|\n",
      "|  6|[-0.35641932, 0.2...|\n",
      "|  7|[-0.8956462, 0.43...|\n",
      "|  8|[-1.0695194, 0.06...|\n",
      "|  9|[-0.037494857, 0....|\n",
      "| 10|[-0.42211238, 0.5...|\n",
      "| 11|[-0.60971487, 0.5...|\n",
      "| 12|[-1.0284107, 0.13...|\n",
      "| 13|[-0.83076036, -0....|\n",
      "| 14|[-0.5794247, -0.0...|\n",
      "| 15|[-0.6422041, -0.0...|\n",
      "| 16|[-0.47119313, 0.0...|\n",
      "| 17|[-0.8232782, 0.43...|\n",
      "| 18|[-0.41385677, 0.3...|\n",
      "| 19|[-0.22403774, 0.5...|\n",
      "| 20|[-0.20548417, 0.2...|\n",
      "+---+--------------------+\n",
      "only showing top 20 rows\n",
      "\n"
     ]
    }
   ],
   "source": [
    "item_factors.sort(item_factors.id.asc()).show(20)"
   ]
  },
  {
   "cell_type": "code",
   "execution_count": 69,
   "metadata": {},
   "outputs": [
    {
     "name": "stdout",
     "output_type": "stream",
     "text": [
      "Item factors shape:(3576, 2)\n"
     ]
    }
   ],
   "source": [
    "print(f\"Item factors shape:{item_factors.count(),len(item_factors.columns)}\")"
   ]
  },
  {
   "cell_type": "code",
   "execution_count": 70,
   "metadata": {},
   "outputs": [
    {
     "name": "stdout",
     "output_type": "stream",
     "text": [
      "1::Toy Story (1995)::Animation|Children's|Comedy\r\n",
      "2::Jumanji (1995)::Adventure|Children's|Fantasy\r\n",
      "3::Grumpier Old Men (1995)::Comedy|Romance\r\n",
      "4::Waiting to Exhale (1995)::Comedy|Drama\r\n",
      "5::Father of the Bride Part II (1995)::Comedy\r\n",
      "6::Heat (1995)::Action|Crime|Thriller\r\n",
      "7::Sabrina (1995)::Comedy|Romance\r\n",
      "8::Tom and Huck (1995)::Adventure|Children's\r\n",
      "9::Sudden Death (1995)::Action\r\n",
      "10::GoldenEye (1995)::Action|Adventure|Thriller\r\n",
      "11::American President, The (1995)::Comedy|Drama|Romance\r\n",
      "12::Dracula: Dead and Loving It (1995)::Comedy|Horror\r\n",
      "13::Balto (1995)::Animation|Children's\r\n",
      "14::Nixon (1995)::Drama\r\n",
      "15::Cutthroat Island (1995)::Action|Adventure|Romance\r\n"
     ]
    }
   ],
   "source": [
    "#First Items\n",
    "!head -n 15 data/movies.dat"
   ]
  },
  {
   "cell_type": "code",
   "execution_count": 80,
   "metadata": {},
   "outputs": [
    {
     "data": {
      "text/plain": [
       "Row(id=1570, features=[-0.5616613626480103, -0.157181978225708, -0.7332372665405273, 0.1095866784453392, 0.2573540508747101, -1.257413387298584, 1.3740884065628052, 0.5832592248916626, 0.7984881401062012, -0.8602371215820312])"
      ]
     },
     "execution_count": 80,
     "metadata": {},
     "output_type": "execute_result"
    }
   ],
   "source": [
    "user_1570_row = user_factors[user_factors['id'] == 1570].first()\n",
    "user_1570_row"
   ]
  },
  {
   "cell_type": "code",
   "execution_count": 77,
   "metadata": {},
   "outputs": [
    {
     "data": {
      "text/plain": [
       "array([-0.56166136, -0.15718198, -0.73323727,  0.10958668,  0.25735405,\n",
       "       -1.25741339,  1.37408841,  0.58325922,  0.79848814, -0.86023712])"
      ]
     },
     "execution_count": 77,
     "metadata": {},
     "output_type": "execute_result"
    }
   ],
   "source": [
    "user_1570_factors = np.array(user_1570_row['features'])\n",
    "user_1570_factors"
   ]
  },
  {
   "cell_type": "code",
   "execution_count": 97,
   "metadata": {},
   "outputs": [],
   "source": [
    "movie_110_row = item_factors[item_factors['id'] == 110].first()"
   ]
  },
  {
   "cell_type": "code",
   "execution_count": 98,
   "metadata": {},
   "outputs": [],
   "source": [
    "movie_110_factors = np.array(movie_110_row['features'])"
   ]
  },
  {
   "cell_type": "code",
   "execution_count": 99,
   "metadata": {},
   "outputs": [
    {
     "data": {
      "text/plain": [
       "3.2508053430178467"
      ]
     },
     "execution_count": 99,
     "metadata": {},
     "output_type": "execute_result"
    }
   ],
   "source": [
    "user_1570_factors @ movie_110_factors"
   ]
  },
  {
   "cell_type": "code",
   "execution_count": 100,
   "metadata": {},
   "outputs": [],
   "source": [
    "user_1750_preds = predictions[predictions['user_id'] == 1570]"
   ]
  },
  {
   "cell_type": "code",
   "execution_count": 101,
   "metadata": {},
   "outputs": [
    {
     "name": "stdout",
     "output_type": "stream",
     "text": [
      "+--------+------+-------------------+-------+----------+\n",
      "|movie_id|rating|          timestamp|user_id|prediction|\n",
      "+--------+------+-------------------+-------+----------+\n",
      "|     110|     3|2000-11-20 00:26:54|   1570| 3.2508054|\n",
      "|     912|     5|2000-11-20 00:27:25|   1570| 4.5508895|\n",
      "|    2473|     1|2000-11-20 00:27:25|   1570|  1.271153|\n",
      "|    2502|     4|2000-11-20 00:26:54|   1570| 3.5577679|\n",
      "+--------+------+-------------------+-------+----------+\n",
      "\n"
     ]
    }
   ],
   "source": [
    "user_1750_preds.sort('movie_id').show()"
   ]
  },
  {
   "cell_type": "code",
   "execution_count": 102,
   "metadata": {},
   "outputs": [],
   "source": [
    "recs = als_model.recommendForAllUsers(numItems=10)"
   ]
  },
  {
   "cell_type": "code",
   "execution_count": 103,
   "metadata": {},
   "outputs": [
    {
     "name": "stdout",
     "output_type": "stream",
     "text": [
      "+-------+--------------------+\n",
      "|user_id|     recommendations|\n",
      "+-------+--------------------+\n",
      "|   1580|[[3338, 4.5225854...|\n",
      "|   4900|[[751, 5.576459],...|\n",
      "|   5300|[[2309, 5.3587584...|\n",
      "|   1591|[[572, 6.1320605]...|\n",
      "|   4101|[[3523, 5.048921]...|\n",
      "|   2122|[[572, 4.808478],...|\n",
      "|   2142|[[572, 4.916417],...|\n",
      "|   5803|[[3338, 5.0024242...|\n",
      "|   3794|[[3338, 4.8726025...|\n",
      "|   1645|[[2342, 5.370462]...|\n",
      "|   3175|[[2192, 5.279993]...|\n",
      "|   4935|[[3569, 4.692035]...|\n",
      "|   2366|[[572, 4.666449],...|\n",
      "|   2866|[[572, 4.463551],...|\n",
      "|   5156|[[2192, 5.8179727...|\n",
      "|   3997|[[572, 4.8999925]...|\n",
      "|   3918|[[960, 4.993689],...|\n",
      "|   4818|[[2192, 5.0776353...|\n",
      "|   5518|[[572, 5.211287],...|\n",
      "|   1829|[[1859, 4.7013426...|\n",
      "+-------+--------------------+\n",
      "only showing top 20 rows\n",
      "\n"
     ]
    }
   ],
   "source": [
    "recs.persist().show()"
   ]
  },
  {
   "cell_type": "code",
   "execution_count": 104,
   "metadata": {},
   "outputs": [
    {
     "data": {
      "text/plain": [
       "[Row(movie_id=2192, rating=5.679603099822998),\n",
       " Row(movie_id=2962, rating=5.572779655456543),\n",
       " Row(movie_id=751, rating=5.157539367675781),\n",
       " Row(movie_id=2342, rating=5.125278949737549),\n",
       " Row(movie_id=2931, rating=5.1087751388549805),\n",
       " Row(movie_id=771, rating=5.102655410766602),\n",
       " Row(movie_id=2309, rating=5.032965183258057),\n",
       " Row(movie_id=1567, rating=4.972918510437012),\n",
       " Row(movie_id=669, rating=4.939802646636963),\n",
       " Row(movie_id=668, rating=4.932856559753418)]"
      ]
     },
     "execution_count": 104,
     "metadata": {},
     "output_type": "execute_result"
    }
   ],
   "source": [
    "recs[recs['user_id']==1570].first()['recommendations']"
   ]
  },
  {
   "cell_type": "code",
   "execution_count": null,
   "metadata": {},
   "outputs": [],
   "source": [
    "prediction['']"
   ]
  }
 ],
 "metadata": {
  "kernelspec": {
   "display_name": "learn-env",
   "language": "python",
   "name": "learn-env"
  },
  "language_info": {
   "codemirror_mode": {
    "name": "ipython",
    "version": 3
   },
   "file_extension": ".py",
   "mimetype": "text/x-python",
   "name": "python",
   "nbconvert_exporter": "python",
   "pygments_lexer": "ipython3",
   "version": "3.6.6"
  }
 },
 "nbformat": 4,
 "nbformat_minor": 2
}
