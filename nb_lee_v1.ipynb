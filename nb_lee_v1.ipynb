{
 "cells": [
  {
   "cell_type": "code",
   "execution_count": 3,
   "metadata": {},
   "outputs": [],
   "source": [
    "import pyspark\n",
    "import numpy as np\n",
    "from pyspark.ml.recommendation import ALS, ALSModel\n",
    "from pyspark.sql import functions, types\n",
    "from pyspark.ml.evaluation import RegressionEvaluator"
   ]
  },
  {
   "cell_type": "code",
   "execution_count": 4,
   "metadata": {},
   "outputs": [],
   "source": [
    "spark = (pyspark.sql.SparkSession.builder \n",
    "  .master(\"local[*]\")\n",
    "  .getOrCreate())"
   ]
  },
  {
   "cell_type": "code",
   "execution_count": 5,
   "metadata": {},
   "outputs": [
    {
     "name": "stdout",
     "output_type": "stream",
     "text": [
      "{\"user_id\": 6040, \"movie_id\": 858, \"rating\": 4, \"timestamp\": 956678732.0}\n",
      "{\"user_id\": 6040, \"movie_id\": 2384, \"rating\": 4, \"timestamp\": 956678754.0}\n",
      "{\"user_id\": 6040, \"movie_id\": 593, \"rating\": 5, \"timestamp\": 956678754.0}\n",
      "{\"user_id\": 6040, \"movie_id\": 1961, \"rating\": 4, \"timestamp\": 956678777.0}\n",
      "{\"user_id\": 6040, \"movie_id\": 1419, \"rating\": 3, \"timestamp\": 956678856.0}\n",
      "{\"user_id\": 6040, \"movie_id\": 213, \"rating\": 5, \"timestamp\": 956678856.0}\n",
      "{\"user_id\": 6040, \"movie_id\": 3111, \"rating\": 5, \"timestamp\": 956678856.0}\n",
      "{\"user_id\": 6040, \"movie_id\": 573, \"rating\": 4, \"timestamp\": 956678856.0}\n",
      "{\"user_id\": 6040, \"movie_id\": 3505, \"rating\": 4, \"timestamp\": 956678856.0}\n",
      "{\"user_id\": 6040, \"movie_id\": 1734, \"rating\": 2, \"timestamp\": 956678881.0}\n"
     ]
    }
   ],
   "source": [
    "!head data/ratings.json"
   ]
  },
  {
   "cell_type": "code",
   "execution_count": 6,
   "metadata": {},
   "outputs": [],
   "source": [
    "path_users = 'data/users.dat'\n",
    "users = (spark.read.load(\"data/users.dat\",\n",
    "                         format=\"csv\", sep=\":\", inferSchema=\"true\")\n",
    "                        .drop('_c1', '_c3', '_c5', '_c7'))"
   ]
  },
  {
   "cell_type": "code",
   "execution_count": 7,
   "metadata": {},
   "outputs": [],
   "source": [
    "users = (users.withColumnRenamed(users.schema.names[0], 'userID')\n",
    "                        .withColumnRenamed(users.schema.names[1], 'gender')\n",
    "                        .withColumnRenamed(users.schema.names[2], 'age')\n",
    "                        .withColumnRenamed(users.schema.names[3], 'occupation')\n",
    "                        .withColumnRenamed(users.schema.names[4], 'zip'))"
   ]
  },
  {
   "cell_type": "code",
   "execution_count": 8,
   "metadata": {},
   "outputs": [
    {
     "data": {
      "text/plain": [
       "['userID', 'gender', 'age', 'occupation', 'zip']"
      ]
     },
     "execution_count": 8,
     "metadata": {},
     "output_type": "execute_result"
    }
   ],
   "source": [
    "users.schema.names"
   ]
  },
  {
   "cell_type": "code",
   "execution_count": 9,
   "metadata": {},
   "outputs": [
    {
     "name": "stdout",
     "output_type": "stream",
     "text": [
      "(6040, 5)\n"
     ]
    }
   ],
   "source": [
    "print((users.count(), len(users.columns)))"
   ]
  },
  {
   "cell_type": "code",
   "execution_count": 10,
   "metadata": {},
   "outputs": [
    {
     "name": "stdout",
     "output_type": "stream",
     "text": [
      "+------+------+---+----------+-----+\n",
      "|userID|gender|age|occupation|  zip|\n",
      "+------+------+---+----------+-----+\n",
      "|     1|     F|  1|        10|48067|\n",
      "|     2|     M| 56|        16|70072|\n",
      "|     3|     M| 25|        15|55117|\n",
      "|     4|     M| 45|         7|02460|\n",
      "|     5|     M| 25|        20|55455|\n",
      "+------+------+---+----------+-----+\n",
      "only showing top 5 rows\n",
      "\n"
     ]
    }
   ],
   "source": [
    "users.show(5)"
   ]
  },
  {
   "cell_type": "code",
   "execution_count": 11,
   "metadata": {},
   "outputs": [],
   "source": [
    "# read in the dataset into pyspark DataFrame\n",
    "path_ratings = 'data/ratings.json'\n",
    "ratings = spark.read.json(path_ratings)"
   ]
  },
  {
   "cell_type": "code",
   "execution_count": 12,
   "metadata": {},
   "outputs": [
    {
     "name": "stdout",
     "output_type": "stream",
     "text": [
      "+--------+------+------------+-------+\n",
      "|movie_id|rating|   timestamp|user_id|\n",
      "+--------+------+------------+-------+\n",
      "|     858|     4|9.56678732E8|   6040|\n",
      "|    2384|     4|9.56678754E8|   6040|\n",
      "|     593|     5|9.56678754E8|   6040|\n",
      "|    1961|     4|9.56678777E8|   6040|\n",
      "|    1419|     3|9.56678856E8|   6040|\n",
      "+--------+------+------------+-------+\n",
      "only showing top 5 rows\n",
      "\n"
     ]
    }
   ],
   "source": [
    "ratings.show(5)"
   ]
  },
  {
   "cell_type": "code",
   "execution_count": 13,
   "metadata": {},
   "outputs": [
    {
     "name": "stdout",
     "output_type": "stream",
     "text": [
      "(719949, 4)\n"
     ]
    }
   ],
   "source": [
    "print((ratings.count(), len(ratings.columns)))"
   ]
  },
  {
   "cell_type": "code",
   "execution_count": 14,
   "metadata": {},
   "outputs": [
    {
     "data": {
      "text/plain": [
       "['movie_id', 'rating', 'timestamp', 'user_id']"
      ]
     },
     "execution_count": 14,
     "metadata": {},
     "output_type": "execute_result"
    }
   ],
   "source": [
    "ratings.schema.names"
   ]
  },
  {
   "cell_type": "code",
   "execution_count": 15,
   "metadata": {},
   "outputs": [
    {
     "name": "stdout",
     "output_type": "stream",
     "text": [
      "root\n",
      " |-- movie_id: long (nullable = true)\n",
      " |-- rating: long (nullable = true)\n",
      " |-- timestamp: double (nullable = true)\n",
      " |-- user_id: long (nullable = true)\n",
      "\n"
     ]
    }
   ],
   "source": [
    "ratings.printSchema()"
   ]
  },
  {
   "cell_type": "code",
   "execution_count": 16,
   "metadata": {},
   "outputs": [
    {
     "name": "stdout",
     "output_type": "stream",
     "text": [
      "+--------+------+------------+-------+\n",
      "|movie_id|rating|   timestamp|user_id|\n",
      "+--------+------+------------+-------+\n",
      "|     858|     4|9.56678732E8|   6040|\n",
      "|    2384|     4|9.56678754E8|   6040|\n",
      "|     593|     5|9.56678754E8|   6040|\n",
      "|    1961|     4|9.56678777E8|   6040|\n",
      "|    1419|     3|9.56678856E8|   6040|\n",
      "+--------+------+------------+-------+\n",
      "only showing top 5 rows\n",
      "\n"
     ]
    }
   ],
   "source": [
    "ratings.show(5)"
   ]
  },
  {
   "cell_type": "code",
   "execution_count": 17,
   "metadata": {},
   "outputs": [
    {
     "data": {
      "text/plain": [
       "DataFrame[movie_id: bigint, rating: bigint, timestamp: double, user_id: bigint]"
      ]
     },
     "execution_count": 17,
     "metadata": {},
     "output_type": "execute_result"
    }
   ],
   "source": [
    "ratings.persist()"
   ]
  },
  {
   "cell_type": "markdown",
   "metadata": {},
   "source": [
    "#### inspect requests dataset"
   ]
  },
  {
   "cell_type": "code",
   "execution_count": 18,
   "metadata": {},
   "outputs": [
    {
     "data": {
      "text/plain": [
       "DataFrame[movie_id: bigint, rating: double, timestamp: double, user_id: bigint]"
      ]
     },
     "execution_count": 18,
     "metadata": {},
     "output_type": "execute_result"
    }
   ],
   "source": [
    "requests = spark.read.json('data/requests.json')\n",
    "requests.persist()"
   ]
  },
  {
   "cell_type": "code",
   "execution_count": 19,
   "metadata": {},
   "outputs": [
    {
     "name": "stdout",
     "output_type": "stream",
     "text": [
      "root\n",
      " |-- movie_id: long (nullable = true)\n",
      " |-- rating: double (nullable = true)\n",
      " |-- timestamp: double (nullable = true)\n",
      " |-- user_id: long (nullable = true)\n",
      "\n"
     ]
    }
   ],
   "source": [
    "requests.printSchema()"
   ]
  },
  {
   "cell_type": "code",
   "execution_count": 20,
   "metadata": {},
   "outputs": [
    {
     "name": "stdout",
     "output_type": "stream",
     "text": [
      "+--------+------+------------+-------+\n",
      "|movie_id|rating|   timestamp|user_id|\n",
      "+--------+------+------------+-------+\n",
      "|    2019|   NaN|9.56678777E8|   6040|\n",
      "|     759|   NaN|9.56679248E8|   6040|\n",
      "|    2858|   NaN|9.56679275E8|   6040|\n",
      "|     246|   NaN|9.56679413E8|   6040|\n",
      "|    1617|   NaN|9.56679473E8|   6040|\n",
      "+--------+------+------------+-------+\n",
      "only showing top 5 rows\n",
      "\n"
     ]
    }
   ],
   "source": [
    "requests.show(5)"
   ]
  },
  {
   "cell_type": "code",
   "execution_count": 21,
   "metadata": {},
   "outputs": [
    {
     "name": "stdout",
     "output_type": "stream",
     "text": [
      "(280260, 4)\n"
     ]
    }
   ],
   "source": [
    "print((requests.count(), len(requests.columns)))"
   ]
  },
  {
   "cell_type": "markdown",
   "metadata": {},
   "source": [
    "### transforming timestamp column of ratings"
   ]
  },
  {
   "cell_type": "code",
   "execution_count": 22,
   "metadata": {},
   "outputs": [],
   "source": [
    "# convert format of datetime column 'timestamp' from epoch to standard \n",
    "ratings = (ratings.withColumn('timestamp',\n",
    "                    functions.date_format(ratings.timestamp.cast(dataType=types.TimestampType()),\n",
    "                    \"yyyy-MM-dd HH:mm:ss\")))"
   ]
  },
  {
   "cell_type": "code",
   "execution_count": 23,
   "metadata": {},
   "outputs": [
    {
     "data": {
      "text/plain": [
       "DataFrame[movie_id: bigint, rating: bigint, timestamp: string, user_id: bigint]"
      ]
     },
     "execution_count": 23,
     "metadata": {},
     "output_type": "execute_result"
    }
   ],
   "source": [
    "ratings.persist()"
   ]
  },
  {
   "cell_type": "code",
   "execution_count": 24,
   "metadata": {},
   "outputs": [
    {
     "name": "stdout",
     "output_type": "stream",
     "text": [
      "+--------+------+-------------------+-------+\n",
      "|movie_id|rating|          timestamp|user_id|\n",
      "+--------+------+-------------------+-------+\n",
      "|     858|     4|2000-04-25 09:05:32|   6040|\n",
      "|    2384|     4|2000-04-25 09:05:54|   6040|\n",
      "|     593|     5|2000-04-25 09:05:54|   6040|\n",
      "|    1961|     4|2000-04-25 09:06:17|   6040|\n",
      "|    1419|     3|2000-04-25 09:07:36|   6040|\n",
      "+--------+------+-------------------+-------+\n",
      "only showing top 5 rows\n",
      "\n"
     ]
    }
   ],
   "source": [
    "ratings.show(5)"
   ]
  },
  {
   "cell_type": "code",
   "execution_count": 25,
   "metadata": {},
   "outputs": [],
   "source": [
    "ratings = ratings.sort(ratings.timestamp.asc())"
   ]
  },
  {
   "cell_type": "code",
   "execution_count": 26,
   "metadata": {},
   "outputs": [
    {
     "data": {
      "text/plain": [
       "DataFrame[movie_id: bigint, rating: bigint, timestamp: string, user_id: bigint]"
      ]
     },
     "execution_count": 26,
     "metadata": {},
     "output_type": "execute_result"
    }
   ],
   "source": [
    "ratings.persist()"
   ]
  },
  {
   "cell_type": "code",
   "execution_count": 27,
   "metadata": {},
   "outputs": [
    {
     "name": "stdout",
     "output_type": "stream",
     "text": [
      "+--------+------+-------------------+-------+\n",
      "|movie_id|rating|          timestamp|user_id|\n",
      "+--------+------+-------------------+-------+\n",
      "|     858|     4|2000-04-25 09:05:32|   6040|\n",
      "|    2384|     4|2000-04-25 09:05:54|   6040|\n",
      "|     593|     5|2000-04-25 09:05:54|   6040|\n",
      "|    1961|     4|2000-04-25 09:06:17|   6040|\n",
      "|    1419|     3|2000-04-25 09:07:36|   6040|\n",
      "+--------+------+-------------------+-------+\n",
      "only showing top 5 rows\n",
      "\n"
     ]
    }
   ],
   "source": [
    "ratings.show(5)"
   ]
  },
  {
   "cell_type": "code",
   "execution_count": 28,
   "metadata": {},
   "outputs": [
    {
     "name": "stdout",
     "output_type": "stream",
     "text": [
      "(719949, 5)\n"
     ]
    }
   ],
   "source": [
    "print((ratings.count(), len(users.columns)))"
   ]
  },
  {
   "cell_type": "code",
   "execution_count": 29,
   "metadata": {},
   "outputs": [
    {
     "data": {
      "text/plain": [
       "575959.2000000001"
      ]
     },
     "execution_count": 29,
     "metadata": {},
     "output_type": "execute_result"
    }
   ],
   "source": [
    "719949*.8"
   ]
  },
  {
   "cell_type": "code",
   "execution_count": 30,
   "metadata": {},
   "outputs": [
    {
     "data": {
      "text/plain": [
       "143989.80000000002"
      ]
     },
     "execution_count": 30,
     "metadata": {},
     "output_type": "execute_result"
    }
   ],
   "source": [
    "719949 *.2"
   ]
  },
  {
   "cell_type": "code",
   "execution_count": 31,
   "metadata": {},
   "outputs": [],
   "source": [
    "# Sort by index and get first 4000 rows\n",
    "ratings_train = ratings.sort(ratings.timestamp.asc()).limit(575959)"
   ]
  },
  {
   "cell_type": "code",
   "execution_count": 32,
   "metadata": {},
   "outputs": [
    {
     "data": {
      "text/plain": [
       "DataFrame[movie_id: bigint, rating: bigint, timestamp: string, user_id: bigint]"
      ]
     },
     "execution_count": 32,
     "metadata": {},
     "output_type": "execute_result"
    }
   ],
   "source": [
    "ratings_train.persist()"
   ]
  },
  {
   "cell_type": "code",
   "execution_count": 33,
   "metadata": {},
   "outputs": [
    {
     "name": "stdout",
     "output_type": "stream",
     "text": [
      "+--------+------+-------------------+-------+\n",
      "|movie_id|rating|          timestamp|user_id|\n",
      "+--------+------+-------------------+-------+\n",
      "|     858|     4|2000-04-25 09:05:32|   6040|\n",
      "|    2384|     4|2000-04-25 09:05:54|   6040|\n",
      "|     593|     5|2000-04-25 09:05:54|   6040|\n",
      "|    1961|     4|2000-04-25 09:06:17|   6040|\n",
      "|    1419|     3|2000-04-25 09:07:36|   6040|\n",
      "+--------+------+-------------------+-------+\n",
      "only showing top 5 rows\n",
      "\n"
     ]
    }
   ],
   "source": [
    "ratings_train.show(5)"
   ]
  },
  {
   "cell_type": "code",
   "execution_count": 34,
   "metadata": {},
   "outputs": [
    {
     "name": "stdout",
     "output_type": "stream",
     "text": [
      "(575959, 4)\n"
     ]
    }
   ],
   "source": [
    "print((ratings_train.count(), len(ratings_train.columns)))"
   ]
  },
  {
   "cell_type": "code",
   "execution_count": 35,
   "metadata": {},
   "outputs": [
    {
     "name": "stdout",
     "output_type": "stream",
     "text": [
      "+--------+------+-------------------+-------+\n",
      "|movie_id|rating|          timestamp|user_id|\n",
      "+--------+------+-------------------+-------+\n",
      "|     858|     4|2000-04-25 09:05:32|   6040|\n",
      "|    2384|     4|2000-04-25 09:05:54|   6040|\n",
      "|     593|     5|2000-04-25 09:05:54|   6040|\n",
      "|    1961|     4|2000-04-25 09:06:17|   6040|\n",
      "|    1419|     3|2000-04-25 09:07:36|   6040|\n",
      "|     213|     5|2000-04-25 09:07:36|   6040|\n",
      "|    3111|     5|2000-04-25 09:07:36|   6040|\n",
      "|     573|     4|2000-04-25 09:07:36|   6040|\n",
      "|    3505|     4|2000-04-25 09:07:36|   6040|\n",
      "|    1734|     2|2000-04-25 09:08:01|   6040|\n",
      "+--------+------+-------------------+-------+\n",
      "only showing top 10 rows\n",
      "\n"
     ]
    }
   ],
   "source": [
    "ratings_train.sort(ratings_train.timestamp.asc()).show(10)"
   ]
  },
  {
   "cell_type": "code",
   "execution_count": 36,
   "metadata": {},
   "outputs": [],
   "source": [
    "ratings_test = ratings.subtract(ratings_train)"
   ]
  },
  {
   "cell_type": "code",
   "execution_count": 37,
   "metadata": {},
   "outputs": [
    {
     "data": {
      "text/plain": [
       "DataFrame[movie_id: bigint, rating: bigint, timestamp: string, user_id: bigint]"
      ]
     },
     "execution_count": 37,
     "metadata": {},
     "output_type": "execute_result"
    }
   ],
   "source": [
    "ratings_test.persist()"
   ]
  },
  {
   "cell_type": "code",
   "execution_count": 38,
   "metadata": {},
   "outputs": [
    {
     "name": "stdout",
     "output_type": "stream",
     "text": [
      "(143990, 4)\n"
     ]
    }
   ],
   "source": [
    "print((ratings_test.count(), len(ratings_test.columns)))"
   ]
  },
  {
   "cell_type": "markdown",
   "metadata": {},
   "source": [
    "### model"
   ]
  },
  {
   "cell_type": "code",
   "execution_count": 39,
   "metadata": {},
   "outputs": [],
   "source": [
    "# build recommendation model using ALS on the training data\n",
    "als = ALS(\n",
    "    rank=10,\n",
    "    maxIter=10,\n",
    "    userCol='user_id',\n",
    "    itemCol='movie_id',\n",
    "    ratingCol='rating',\n",
    ")"
   ]
  },
  {
   "cell_type": "code",
   "execution_count": 40,
   "metadata": {},
   "outputs": [],
   "source": [
    "# fit the ALS model on training set\n",
    "\n",
    "als_model = als.fit(ratings_train)"
   ]
  },
  {
   "cell_type": "markdown",
   "metadata": {},
   "source": [
    "### predict on ratings_test with fitted model"
   ]
  },
  {
   "cell_type": "code",
   "execution_count": 41,
   "metadata": {},
   "outputs": [
    {
     "data": {
      "text/plain": [
       "DataFrame[movie_id: bigint, rating: bigint, timestamp: string, user_id: bigint, prediction: float]"
      ]
     },
     "execution_count": 41,
     "metadata": {},
     "output_type": "execute_result"
    }
   ],
   "source": [
    "# generate predictions with your model for the test set by using the transform method on your ALS model\n",
    "preds_test = als_model.transform(ratings_test)\n",
    "preds_test.persist()"
   ]
  },
  {
   "cell_type": "code",
   "execution_count": 42,
   "metadata": {},
   "outputs": [],
   "source": [
    "# evaluate your model and print out the RMSE from your test set"
   ]
  },
  {
   "cell_type": "code",
   "execution_count": 43,
   "metadata": {},
   "outputs": [
    {
     "name": "stdout",
     "output_type": "stream",
     "text": [
      "+--------+------+-------------------+-------+----------+\n",
      "|movie_id|rating|          timestamp|user_id|prediction|\n",
      "+--------+------+-------------------+-------+----------+\n",
      "|    3354|     3|2000-11-20 00:28:20|   1577| 3.2754974|\n",
      "|    2571|     3|2000-11-20 00:28:25|   1579| 3.7229302|\n",
      "|     377|     4|2000-11-20 00:28:25|   1579| 3.0375485|\n",
      "|       6|     3|2000-11-20 00:28:25|   1579| 3.5706792|\n",
      "|    2427|     2|2000-11-20 00:28:25|   1579| 3.4963312|\n",
      "|    1276|     4|2000-11-20 00:28:32|   1592| 3.9360816|\n",
      "|    1270|     4|2000-11-20 00:28:32|   1574|  4.696215|\n",
      "|    2396|     3|2000-11-20 00:28:32|   1574|  4.134782|\n",
      "|    1079|     4|2000-11-20 00:28:32|   1574| 3.7328296|\n",
      "|     858|     5|2000-11-20 00:28:33|   1575| 4.3419867|\n",
      "+--------+------+-------------------+-------+----------+\n",
      "only showing top 10 rows\n",
      "\n"
     ]
    }
   ],
   "source": [
    "preds_test.sort(preds_test.timestamp.asc()).show(10)"
   ]
  },
  {
   "cell_type": "code",
   "execution_count": 44,
   "metadata": {},
   "outputs": [
    {
     "name": "stdout",
     "output_type": "stream",
     "text": [
      "+--------+------+-------------------+-------+----------+\n",
      "|movie_id|rating|          timestamp|user_id|prediction|\n",
      "+--------+------+-------------------+-------+----------+\n",
      "|     148|     5|2000-11-30 05:47:04|    673|       NaN|\n",
      "|     148|     3|2000-11-22 00:19:36|   1242|       NaN|\n",
      "|     148|     2|2000-11-22 10:05:35|   1069|       NaN|\n",
      "|     148|     2|2000-11-22 05:57:01|   1605| 1.8249925|\n",
      "|     148|     2|2000-11-21 14:38:26|   1150|       NaN|\n",
      "|     463|     3|2000-12-01 01:03:09|    660|       NaN|\n",
      "|     463|     2|2000-11-22 10:02:18|   1069|       NaN|\n",
      "|     463|     2|2000-11-22 08:33:30|   1146|       NaN|\n",
      "|     463|     1|2000-11-28 12:05:54|    746|       NaN|\n",
      "|     463|     2|2000-11-26 01:52:43|   1980| 2.4116402|\n",
      "|     471|     5|2000-11-23 02:51:07|   1395|       NaN|\n",
      "|     471|     4|2000-11-20 14:30:07|   1303|       NaN|\n",
      "|     471|     3|2000-11-22 03:09:41|   1199|       NaN|\n",
      "|     471|     3|2000-11-20 08:03:22|   1404|       NaN|\n",
      "|     471|     5|2000-11-20 06:23:56|   1441|       NaN|\n",
      "|     471|     2|2000-11-20 04:52:58|   1496|       NaN|\n",
      "|     471|     3|2000-11-21 11:50:55|   1156|       NaN|\n",
      "|     471|     5|2000-11-29 04:19:21|    731|       NaN|\n",
      "|     471|     4|2000-11-23 04:17:52|   1019|       NaN|\n",
      "|     471|     4|2000-11-21 14:32:35|   1294|       NaN|\n",
      "+--------+------+-------------------+-------+----------+\n",
      "only showing top 20 rows\n",
      "\n"
     ]
    }
   ],
   "source": [
    "preds_test.where(preds_test['prediction'].isNotNull()).show()"
   ]
  },
  {
   "cell_type": "code",
   "execution_count": 47,
   "metadata": {},
   "outputs": [],
   "source": [
    "# Evaluate the model by computing the RMSE on the test data\n",
    "# preds_test = als_model.transform(ratings_test)"
   ]
  },
  {
   "cell_type": "code",
   "execution_count": 48,
   "metadata": {},
   "outputs": [],
   "source": [
    "evaluator = RegressionEvaluator(metricName=\"rmse\", labelCol=\"rating\",\n",
    "                                predictionCol=\"prediction\")"
   ]
  },
  {
   "cell_type": "code",
   "execution_count": 49,
   "metadata": {},
   "outputs": [],
   "source": [
    "rmse = evaluator.evaluate(preds_test)"
   ]
  },
  {
   "cell_type": "code",
   "execution_count": 50,
   "metadata": {},
   "outputs": [
    {
     "data": {
      "text/plain": [
       "nan"
      ]
     },
     "execution_count": 50,
     "metadata": {},
     "output_type": "execute_result"
    }
   ],
   "source": [
    "rmse"
   ]
  },
  {
   "cell_type": "code",
   "execution_count": 51,
   "metadata": {},
   "outputs": [],
   "source": [
    "# inspect user_factors and item_factors"
   ]
  },
  {
   "cell_type": "code",
   "execution_count": 52,
   "metadata": {},
   "outputs": [],
   "source": [
    "user_factors = als_model.userFactors"
   ]
  },
  {
   "cell_type": "code",
   "execution_count": 53,
   "metadata": {},
   "outputs": [
    {
     "name": "stdout",
     "output_type": "stream",
     "text": [
      "+----+--------------------+\n",
      "|  id|            features|\n",
      "+----+--------------------+\n",
      "|1570|[0.07491307, -0.5...|\n",
      "|1571|[-0.96726793, 0.0...|\n",
      "|1572|[-0.6420927, 0.81...|\n",
      "|1573|[-0.6550203, 0.16...|\n",
      "|1574|[0.05617068, 1.16...|\n",
      "|1575|[0.05610694, 0.04...|\n",
      "|1576|[-0.7933536, 0.41...|\n",
      "|1577|[-0.2509155, 0.10...|\n",
      "|1578|[-0.34301838, -0....|\n",
      "|1579|[-0.6010333, -0.1...|\n",
      "+----+--------------------+\n",
      "only showing top 10 rows\n",
      "\n"
     ]
    }
   ],
   "source": [
    "user_factors.sort(user_factors.id.asc()).show(10)"
   ]
  },
  {
   "cell_type": "code",
   "execution_count": 54,
   "metadata": {},
   "outputs": [
    {
     "name": "stdout",
     "output_type": "stream",
     "text": [
      "+----+--------------------+\n",
      "|  id|            features|\n",
      "+----+--------------------+\n",
      "|1570|[0.07491307, -0.5...|\n",
      "|1580|[-0.1162439, 0.43...|\n",
      "|1590|[-1.0390608, 0.16...|\n",
      "|1600|[-0.5776814, 0.12...|\n",
      "|1610|[-0.7560675, 0.68...|\n",
      "|1620|[-0.587719, -0.13...|\n",
      "|1630|[-0.4968645, 0.08...|\n",
      "|1640|[-0.5812046, 0.18...|\n",
      "|1650|[-0.5737709, 0.22...|\n",
      "|1660|[-0.19235167, 0.0...|\n",
      "+----+--------------------+\n",
      "only showing top 10 rows\n",
      "\n"
     ]
    }
   ],
   "source": [
    "user_factors.show(10)"
   ]
  },
  {
   "cell_type": "code",
   "execution_count": 55,
   "metadata": {},
   "outputs": [
    {
     "name": "stdout",
     "output_type": "stream",
     "text": [
      "(4464, 2)\n"
     ]
    }
   ],
   "source": [
    "print((user_factors.count(), len(user_factors.columns)))"
   ]
  },
  {
   "cell_type": "code",
   "execution_count": 56,
   "metadata": {},
   "outputs": [],
   "source": [
    "item_factors = als_model.itemFactors"
   ]
  },
  {
   "cell_type": "code",
   "execution_count": 57,
   "metadata": {},
   "outputs": [
    {
     "name": "stdout",
     "output_type": "stream",
     "text": [
      "+---+--------------------+\n",
      "| id|            features|\n",
      "+---+--------------------+\n",
      "| 10|[-0.21958895, 0.4...|\n",
      "| 20|[-0.44277176, 0.4...|\n",
      "| 30|[-0.17176531, 0.2...|\n",
      "| 40|[0.07197746, 0.25...|\n",
      "| 50|[-0.49478978, 0.0...|\n",
      "| 60|[-0.19229119, 0.0...|\n",
      "| 70|[-0.11067993, 0.2...|\n",
      "| 80|[-0.58575565, 0.0...|\n",
      "| 90|[-0.29340154, 0.0...|\n",
      "|100|[-0.20213532, 0.3...|\n",
      "+---+--------------------+\n",
      "only showing top 10 rows\n",
      "\n"
     ]
    }
   ],
   "source": [
    "item_factors.show(10)"
   ]
  },
  {
   "cell_type": "code",
   "execution_count": 58,
   "metadata": {},
   "outputs": [
    {
     "name": "stdout",
     "output_type": "stream",
     "text": [
      "(3576, 2)\n"
     ]
    }
   ],
   "source": [
    "print((item_factors.count(), len(item_factors.columns)))"
   ]
  },
  {
   "cell_type": "code",
   "execution_count": 59,
   "metadata": {},
   "outputs": [],
   "source": [
    "user_1570_row = user_factors[user_factors['id'] == 1570].first()"
   ]
  },
  {
   "cell_type": "code",
   "execution_count": 60,
   "metadata": {},
   "outputs": [
    {
     "data": {
      "text/plain": [
       "Row(id=1570, features=[0.07491306960582733, -0.5896221399307251, 1.1276379823684692, -0.3849954903125763, 1.1354124546051025, -0.19439247250556946, 0.5728875994682312, -0.7282409071922302, 0.26278382539749146, -1.548317790031433])"
      ]
     },
     "execution_count": 60,
     "metadata": {},
     "output_type": "execute_result"
    }
   ],
   "source": [
    "# note - Alex and I got significantly different values for the below\n",
    "user_1570_row"
   ]
  },
  {
   "cell_type": "code",
   "execution_count": 61,
   "metadata": {},
   "outputs": [],
   "source": [
    "user_1570_factors = np.array(user_1570_row['features'])"
   ]
  },
  {
   "cell_type": "code",
   "execution_count": 62,
   "metadata": {},
   "outputs": [
    {
     "data": {
      "text/plain": [
       "array([ 0.07491307, -0.58962214,  1.12763798, -0.38499549,  1.13541245,\n",
       "       -0.19439247,  0.5728876 , -0.72824091,  0.26278383, -1.54831779])"
      ]
     },
     "execution_count": 62,
     "metadata": {},
     "output_type": "execute_result"
    }
   ],
   "source": [
    "user_1570_factors"
   ]
  },
  {
   "cell_type": "code",
   "execution_count": 63,
   "metadata": {},
   "outputs": [],
   "source": [
    "toy_story_row = item_factors[item_factors['id'] == 1].first()\n",
    "toy_story_factors = np.array(toy_story_row['features'])"
   ]
  },
  {
   "cell_type": "code",
   "execution_count": 64,
   "metadata": {},
   "outputs": [
    {
     "data": {
      "text/plain": [
       "Row(id=1, features=[-0.5367518067359924, 0.04210188239812851, 0.5631994009017944, 0.25970175862312317, 0.8728556036949158, 0.0016247003804892302, 0.5866580605506897, -0.9223973155021667, -0.22879548370838165, -0.9024826884269714])"
      ]
     },
     "execution_count": 64,
     "metadata": {},
     "output_type": "execute_result"
    }
   ],
   "source": [
    "toy_story_row"
   ]
  },
  {
   "cell_type": "code",
   "execution_count": 65,
   "metadata": {},
   "outputs": [
    {
     "data": {
      "text/plain": [
       "array([-0.53675181,  0.04210188,  0.5631994 ,  0.25970176,  0.8728556 ,\n",
       "        0.0016247 ,  0.58665806, -0.92239732, -0.22879548, -0.90248269])"
      ]
     },
     "execution_count": 65,
     "metadata": {},
     "output_type": "execute_result"
    }
   ],
   "source": [
    "toy_story_factors"
   ]
  },
  {
   "cell_type": "code",
   "execution_count": 66,
   "metadata": {},
   "outputs": [
    {
     "data": {
      "text/plain": [
       "array([ 0.07491307, -0.58962214,  1.12763798, -0.38499549,  1.13541245,\n",
       "       -0.19439247,  0.5728876 , -0.72824091,  0.26278383, -1.54831779])"
      ]
     },
     "execution_count": 66,
     "metadata": {},
     "output_type": "execute_result"
    }
   ],
   "source": [
    "user_1570_factors"
   ]
  },
  {
   "cell_type": "code",
   "execution_count": 72,
   "metadata": {},
   "outputs": [
    {
     "data": {
      "text/plain": [
       "array([-0.53675181,  0.04210188,  0.5631994 ,  0.25970176,  0.8728556 ,\n",
       "        0.0016247 ,  0.58665806, -0.92239732, -0.22879548, -0.90248269])"
      ]
     },
     "execution_count": 72,
     "metadata": {},
     "output_type": "execute_result"
    }
   ],
   "source": [
    "toy_story_factors"
   ]
  },
  {
   "cell_type": "code",
   "execution_count": 68,
   "metadata": {},
   "outputs": [
    {
     "data": {
      "text/plain": [
       "3.805825231832004"
      ]
     },
     "execution_count": 68,
     "metadata": {},
     "output_type": "execute_result"
    }
   ],
   "source": [
    "user_1570_factors @ toy_story_factors"
   ]
  },
  {
   "cell_type": "code",
   "execution_count": 69,
   "metadata": {},
   "outputs": [],
   "source": [
    "# predictions.sort(predictions.timestamp.asc()).show(10)"
   ]
  },
  {
   "cell_type": "code",
   "execution_count": 70,
   "metadata": {},
   "outputs": [],
   "source": [
    "# ratings.where(col('rating').isNull())"
   ]
  },
  {
   "cell_type": "code",
   "execution_count": 73,
   "metadata": {},
   "outputs": [],
   "source": [
    "user_1570_preds = preds_test[preds_test['user_id'] == 1570]"
   ]
  },
  {
   "cell_type": "code",
   "execution_count": 74,
   "metadata": {},
   "outputs": [
    {
     "name": "stdout",
     "output_type": "stream",
     "text": [
      "+--------+------+-------------------+-------+----------+\n",
      "|movie_id|rating|          timestamp|user_id|prediction|\n",
      "+--------+------+-------------------+-------+----------+\n",
      "|     164|     4|2000-11-20 00:33:53|   1570|  3.909648|\n",
      "|     270|     2|2000-11-20 00:29:52|   1570| 2.2307768|\n",
      "|     296|     5|2000-11-20 00:31:37|   1570|  4.317787|\n",
      "|     306|     4|2000-11-20 00:31:37|   1570| 4.4758215|\n",
      "|     350|     2|2000-11-20 00:35:20|   1570| 2.3341775|\n",
      "|     517|     3|2000-11-20 00:36:06|   1570| 2.1073813|\n",
      "|     541|     4|2000-11-20 00:38:01|   1570|  4.431365|\n",
      "|     648|     3|2000-11-20 00:36:06|   1570| 2.4821692|\n",
      "|     800|     5|2000-11-20 00:32:54|   1570| 4.3803797|\n",
      "|     858|     5|2000-11-20 00:29:52|   1570| 4.3533316|\n",
      "|     903|     4|2000-11-20 00:32:38|   1570| 4.2394323|\n",
      "|     904|     5|2000-11-20 00:32:38|   1570|  4.351304|\n",
      "|     919|     4|2000-11-20 00:31:11|   1570| 3.8894572|\n",
      "|     922|     4|2000-11-20 00:38:01|   1570| 4.6088367|\n",
      "|     923|     5|2000-11-20 00:30:28|   1570| 4.6544886|\n",
      "|     930|     5|2000-11-20 00:38:01|   1570|  4.285918|\n",
      "|     931|     3|2000-11-20 00:33:33|   1570|   4.14346|\n",
      "|     942|     3|2000-11-20 00:32:38|   1570| 4.3086658|\n",
      "|    1086|     3|2000-11-20 00:33:33|   1570|  3.760044|\n",
      "|    1212|     4|2000-11-20 00:32:38|   1570|  4.652933|\n",
      "+--------+------+-------------------+-------+----------+\n",
      "only showing top 20 rows\n",
      "\n"
     ]
    }
   ],
   "source": [
    "user_1570_preds.sort('movie_id').show()"
   ]
  },
  {
   "cell_type": "code",
   "execution_count": 75,
   "metadata": {},
   "outputs": [
    {
     "data": {
      "text/plain": [
       "DataFrame[user_id: int, recommendations: array<struct<movie_id:int,rating:float>>]"
      ]
     },
     "execution_count": 75,
     "metadata": {},
     "output_type": "execute_result"
    }
   ],
   "source": [
    "# produces \n",
    "recs = als_model.recommendForAllUsers(numItems=10)\n",
    "recs.persist()"
   ]
  },
  {
   "cell_type": "code",
   "execution_count": 76,
   "metadata": {},
   "outputs": [
    {
     "name": "stdout",
     "output_type": "stream",
     "text": [
      "+-------+--------------------+\n",
      "|user_id|     recommendations|\n",
      "+-------+--------------------+\n",
      "|   1570|[[2192, 5.718519]...|\n",
      "|   1571|[[572, 5.5701656]...|\n",
      "|   1572|[[3523, 4.8673015...|\n",
      "|   1573|[[2197, 5.4305997...|\n",
      "|   1574|[[572, 6.227351],...|\n",
      "|   1575|[[2192, 5.661892]...|\n",
      "|   1576|[[572, 5.4530873]...|\n",
      "|   1577|[[3306, 5.266887]...|\n",
      "|   1578|[[3338, 5.2708817...|\n",
      "|   1579|[[751, 4.683699],...|\n",
      "|   1580|[[3338, 4.4096313...|\n",
      "|   1582|[[3523, 6.149501]...|\n",
      "|   1583|[[1361, 5.14452],...|\n",
      "|   1584|[[751, 4.6355004]...|\n",
      "|   1585|[[572, 4.6860504]...|\n",
      "|   1586|[[572, 5.6415596]...|\n",
      "|   1587|[[2309, 4.5818915...|\n",
      "|   1588|[[3140, 5.468425]...|\n",
      "|   1589|[[3338, 5.107899]...|\n",
      "|   1590|[[3338, 5.1533346...|\n",
      "+-------+--------------------+\n",
      "only showing top 20 rows\n",
      "\n"
     ]
    }
   ],
   "source": [
    "# returns list of lists\n",
    "recs.sort(recs.user_id.asc()).show()"
   ]
  },
  {
   "cell_type": "code",
   "execution_count": 77,
   "metadata": {},
   "outputs": [],
   "source": [
    "# normalized or standard_scalar, row-wise, normalize per movie"
   ]
  },
  {
   "cell_type": "code",
   "execution_count": 80,
   "metadata": {},
   "outputs": [
    {
     "ename": "TypeError",
     "evalue": "'NoneType' object is not subscriptable",
     "output_type": "error",
     "traceback": [
      "\u001b[0;31m---------------------------------------------------------------------------\u001b[0m",
      "\u001b[0;31mTypeError\u001b[0m                                 Traceback (most recent call last)",
      "\u001b[0;32m<ipython-input-80-9f22ec3c1489>\u001b[0m in \u001b[0;36m<module>\u001b[0;34m()\u001b[0m\n\u001b[0;32m----> 1\u001b[0;31m \u001b[0mrecs\u001b[0m\u001b[0;34m[\u001b[0m\u001b[0mrecs\u001b[0m\u001b[0;34m[\u001b[0m\u001b[0;34m'user_id'\u001b[0m\u001b[0;34m]\u001b[0m\u001b[0;34m==\u001b[0m\u001b[0;36m10\u001b[0m\u001b[0;34m]\u001b[0m\u001b[0;34m.\u001b[0m\u001b[0mfirst\u001b[0m\u001b[0;34m(\u001b[0m\u001b[0;34m)\u001b[0m\u001b[0;34m[\u001b[0m\u001b[0;34m'recommendations'\u001b[0m\u001b[0;34m]\u001b[0m\u001b[0;34m\u001b[0m\u001b[0m\n\u001b[0m",
      "\u001b[0;31mTypeError\u001b[0m: 'NoneType' object is not subscriptable"
     ]
    }
   ],
   "source": [
    "# recs[recs['user_id']==10].first()['recommendations']"
   ]
  },
  {
   "cell_type": "code",
   "execution_count": 81,
   "metadata": {},
   "outputs": [],
   "source": [
    "# !grep 3086 < data/movies.csv"
   ]
  },
  {
   "cell_type": "code",
   "execution_count": 82,
   "metadata": {},
   "outputs": [],
   "source": [
    "preds_requests = als_model.transform(requests)"
   ]
  },
  {
   "cell_type": "code",
   "execution_count": 83,
   "metadata": {},
   "outputs": [
    {
     "data": {
      "text/plain": [
       "DataFrame[movie_id: bigint, rating: double, timestamp: double, user_id: bigint, prediction: float]"
      ]
     },
     "execution_count": 83,
     "metadata": {},
     "output_type": "execute_result"
    }
   ],
   "source": [
    "preds_requests.persist()"
   ]
  },
  {
   "cell_type": "code",
   "execution_count": 84,
   "metadata": {},
   "outputs": [
    {
     "name": "stdout",
     "output_type": "stream",
     "text": [
      "+--------+------+-------------+-------+----------+\n",
      "|movie_id|rating|    timestamp|user_id|prediction|\n",
      "+--------+------+-------------+-------+----------+\n",
      "|     148|   NaN| 9.77959026E8|     53|       NaN|\n",
      "|     148|   NaN| 9.76559602E8|   4169| 3.1917603|\n",
      "|     148|   NaN| 9.89024856E8|   5333| 2.4790075|\n",
      "|     148|   NaN| 9.77005381E8|   4387|  2.254983|\n",
      "|     148|   NaN| 9.66907208E8|   3539| 2.7710366|\n",
      "|     148|   NaN| 9.76266538E8|    840|       NaN|\n",
      "|     148|   NaN| 9.76841639E8|    216|       NaN|\n",
      "|     148|   NaN| 9.76191154E8|    482|       NaN|\n",
      "|     148|   NaN|1.029283935E9|    752|       NaN|\n",
      "|     148|   NaN|1.026978024E9|    424|       NaN|\n",
      "|     148|   NaN| 9.74150193E8|   2456|  2.615888|\n",
      "|     148|   NaN|  9.7014489E8|   3053| 2.8342977|\n",
      "|     463|   NaN| 9.80596453E8|    970|       NaN|\n",
      "|     463|   NaN| 9.76560887E8|   4169| 2.4588823|\n",
      "|     463|   NaN| 9.78242788E8|     26|       NaN|\n",
      "|     463|   NaN| 9.76395651E8|    319|       NaN|\n",
      "|     463|   NaN| 9.76907712E8|    202|       NaN|\n",
      "|     463|   NaN| 9.75746926E8|    721|       NaN|\n",
      "|     463|   NaN|   9.652831E8|   4252| 2.1835692|\n",
      "|     463|   NaN|  9.7982674E8|    331|       NaN|\n",
      "+--------+------+-------------+-------+----------+\n",
      "only showing top 20 rows\n",
      "\n"
     ]
    }
   ],
   "source": [
    "preds_requests.where(preds_requests['prediction'].isNotNull()).show()"
   ]
  },
  {
   "cell_type": "code",
   "execution_count": 85,
   "metadata": {},
   "outputs": [
    {
     "name": "stdout",
     "output_type": "stream",
     "text": [
      "+--------+------+------------+-------+----------+\n",
      "|movie_id|rating|   timestamp|user_id|prediction|\n",
      "+--------+------+------------+-------+----------+\n",
      "|    2019|   NaN|9.56678777E8|   6040| 4.2240205|\n",
      "|     759|   NaN|9.56679248E8|   6040| 3.7661352|\n",
      "|    2858|   NaN|9.56679275E8|   6040| 3.8562121|\n",
      "|     246|   NaN|9.56679413E8|   6040| 3.9449675|\n",
      "|    1617|   NaN|9.56679473E8|   6040| 3.9109821|\n",
      "|    2324|   NaN|9.56679629E8|   6040| 3.5924335|\n",
      "|    1089|   NaN|9.56679796E8|   6040| 3.7035742|\n",
      "|    2804|   NaN|9.56680123E8|   6039| 3.9610476|\n",
      "|     933|   NaN| 9.5668027E8|   6039| 3.9462368|\n",
      "|    1304|   NaN|9.56680308E8|   6039| 4.0060763|\n",
      "+--------+------+------------+-------+----------+\n",
      "only showing top 10 rows\n",
      "\n"
     ]
    }
   ],
   "source": [
    "preds_requests.sort(preds_requests.timestamp.asc()).show(10)"
   ]
  },
  {
   "cell_type": "code",
   "execution_count": 86,
   "metadata": {},
   "outputs": [
    {
     "name": "stdout",
     "output_type": "stream",
     "text": [
      "(280260, 5)\n"
     ]
    }
   ],
   "source": [
    "print((preds_requests.count(), len(preds_requests.columns)))"
   ]
  }
 ],
 "metadata": {
  "kernelspec": {
   "display_name": "learn-env",
   "language": "python",
   "name": "learn-env"
  },
  "language_info": {
   "codemirror_mode": {
    "name": "ipython",
    "version": 3
   },
   "file_extension": ".py",
   "mimetype": "text/x-python",
   "name": "python",
   "nbconvert_exporter": "python",
   "pygments_lexer": "ipython3",
   "version": "3.7.3"
  }
 },
 "nbformat": 4,
 "nbformat_minor": 2
}
